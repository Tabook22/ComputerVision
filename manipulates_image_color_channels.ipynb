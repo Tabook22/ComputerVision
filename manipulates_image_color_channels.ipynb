{
  "nbformat": 4,
  "nbformat_minor": 0,
  "metadata": {
    "colab": {
      "provenance": [],
      "authorship_tag": "ABX9TyOv5qn7vmCwCdEsx+lHwrLO",
      "include_colab_link": true
    },
    "kernelspec": {
      "name": "python3",
      "display_name": "Python 3"
    },
    "language_info": {
      "name": "python"
    }
  },
  "cells": [
    {
      "cell_type": "markdown",
      "metadata": {
        "id": "view-in-github",
        "colab_type": "text"
      },
      "source": [
        "<a href=\"https://colab.research.google.com/github/Tabook22/ComputerVision/blob/main/manipulates_image_color_channels.ipynb\" target=\"_parent\"><img src=\"https://colab.research.google.com/assets/colab-badge.svg\" alt=\"Open In Colab\"/></a>"
      ]
    },
    {
      "cell_type": "markdown",
      "source": [
        "**This code essentially takes an input image, manipulates its color channels to create a specific color effect (in this case, a red colorized effect), saves the modified image, and displays it using Matplotlib. You can adjust the color channels and values to create different color effects.**"
      ],
      "metadata": {
        "id": "F3xkeNJB3W7E"
      }
    },
    {
      "cell_type": "markdown",
      "source": [
        "Importing Libraries:\n",
        "\n",
        "It imports necessary libraries, including OpenCV (cv2), NumPy (numpy), and Matplotlib (matplotlib)."
      ],
      "metadata": {
        "id": "RLD3QMXd2rM2"
      }
    },
    {
      "cell_type": "code",
      "execution_count": 3,
      "metadata": {
        "id": "yRPbd8St1IC7"
      },
      "outputs": [],
      "source": [
        "import cv2\n",
        "import numpy as np\n",
        "import matplotlib.pyplot as plt"
      ]
    },
    {
      "cell_type": "markdown",
      "source": [
        "Loading the Original Image:\n",
        "\n",
        "It loads an image named 'image.jpg' using OpenCV's cv2.imread() function. This image is stored in the variable image. By default, OpenCV loads images in the BGR color format."
      ],
      "metadata": {
        "id": "-pqueezt2uq6"
      }
    },
    {
      "cell_type": "code",
      "source": [
        "# Load an image\n",
        "image = cv2.imread('image.png')"
      ],
      "metadata": {
        "id": "8yuSn_le2DUW"
      },
      "execution_count": null,
      "outputs": []
    },
    {
      "cell_type": "markdown",
      "source": [
        "Splitting RGB Channels:\n",
        "\n",
        "It splits the loaded image into its three color channels: blue, green, and red. These channels are stored in variables blue_channel, green_channel, and red_channel, respectively. Each channel is a grayscale image representing the intensity of that color in the original image."
      ],
      "metadata": {
        "id": "KzH5mFLb2zkb"
      }
    },
    {
      "cell_type": "code",
      "source": [
        "# Split the image into its RGB channels\n",
        "blue_channel, green_channel, red_channel = cv2.split(image)"
      ],
      "metadata": {
        "id": "2vmr8CPp2JD9"
      },
      "execution_count": null,
      "outputs": []
    },
    {
      "cell_type": "markdown",
      "source": [
        "Creating New Color Channels:\n",
        "\n",
        "It creates new channels with a color shift. Specifically:\n",
        "new_blue_channel is assigned the same values as the original blue channel, so it remains unchanged.\n",
        "new_green_channel is created as a zero-valued image, effectively removing the green color from the image.\n",
        "new_red_channel is created as a fully saturated red channel, which means all pixel values are set to their maximum value (255). This results in a red colorized effect."
      ],
      "metadata": {
        "id": "3TalkVHW25Lp"
      }
    },
    {
      "cell_type": "code",
      "source": [
        "# Create new channels with a color shift\n",
        "new_blue_channel = blue_channel  # Keep the blue channel unchanged\n",
        "new_green_channel = np.zeros_like(green_channel)  # Set the green channel to zero\n",
        "new_red_channel = np.full_like(red_channel, 255)  # Set the red channel to full intensity (255)"
      ],
      "metadata": {
        "id": "n58MMpot2N3L"
      },
      "execution_count": null,
      "outputs": []
    },
    {
      "cell_type": "markdown",
      "source": [
        "Merging Modified Channels:\n",
        "\n",
        "It merges the modified blue, green, and red channels (new_blue_channel, new_green_channel, and new_red_channel, respectively) back together to create a new image. The cv2.merge() function is used for this purpose, and the resulting image is stored in new_image."
      ],
      "metadata": {
        "id": "EIhH0MH92-Iq"
      }
    },
    {
      "cell_type": "code",
      "source": [
        "# Merge the modified channels to create the new image\n",
        "new_image = cv2.merge((new_blue_channel, new_green_channel, new_red_channel))"
      ],
      "metadata": {
        "id": "yif4cLgs2Rj3"
      },
      "execution_count": null,
      "outputs": []
    },
    {
      "cell_type": "markdown",
      "source": [
        "Saving the Modified Image:\n",
        "\n",
        "It saves the modified image (new_image) as 'colorized_image.jpg' using cv2.imwrite()."
      ],
      "metadata": {
        "id": "UzqxO8I63Hga"
      }
    },
    {
      "cell_type": "code",
      "source": [
        "# Save the modified image\n",
        "cv2.imwrite('colorized_image.jpg', new_image)"
      ],
      "metadata": {
        "id": "6lE1RrjS2YHb"
      },
      "execution_count": null,
      "outputs": []
    },
    {
      "cell_type": "markdown",
      "source": [
        "Displaying the Modified Image:\n",
        "\n",
        "It converts the color format of new_image from BGR to RGB using cv2.cvtColor() because Matplotlib expects images in RGB format.\n",
        "It displays the modified image using Matplotlib with plt.imshow().\n",
        "The plt.axis('off') line is used to turn off axis labels and ticks in the displayed image.\n",
        "Finally, it calls plt.show() to actually display the modified image."
      ],
      "metadata": {
        "id": "mTAaVUKt3MQs"
      }
    },
    {
      "cell_type": "code",
      "source": [
        "# Display the modified image using Matplotlib\n",
        "new_image_rgb = cv2.cvtColor(new_image, cv2.COLOR_BGR2RGB)\n",
        "plt.imshow(new_image_rgb)\n",
        "plt.axis('off')  # Turn off axis labels and ticks\n",
        "plt.show()"
      ],
      "metadata": {
        "id": "Y4Pcgvi12aKF"
      },
      "execution_count": null,
      "outputs": []
    }
  ]
}