{
  "nbformat": 4,
  "nbformat_minor": 0,
  "metadata": {
    "colab": {
      "provenance": [],
      "authorship_tag": "ABX9TyMOYTl/rLpsdUe2i0jYzfd0",
      "include_colab_link": true
    },
    "kernelspec": {
      "name": "python3",
      "display_name": "Python 3"
    },
    "language_info": {
      "name": "python"
    }
  },
  "cells": [
    {
      "cell_type": "markdown",
      "metadata": {
        "id": "view-in-github",
        "colab_type": "text"
      },
      "source": [
        "<a href=\"https://colab.research.google.com/github/Tabook22/ComputerVision/blob/main/image_filtering_edges_processing.ipynb\" target=\"_parent\"><img src=\"https://colab.research.google.com/assets/colab-badge.svg\" alt=\"Open In Colab\"/></a>"
      ]
    },
    {
      "cell_type": "code",
      "execution_count": 7,
      "metadata": {
        "colab": {
          "base_uri": "https://localhost:8080/"
        },
        "id": "9IPkHR2OPXv9",
        "outputId": "58611b5c-4bbc-4b06-81a6-c0f0d15598be"
      },
      "outputs": [
        {
          "output_type": "stream",
          "name": "stdout",
          "text": [
            "Requirement already satisfied: scipy in /usr/local/lib/python3.10/dist-packages (1.11.3)\n",
            "Requirement already satisfied: numpy<1.28.0,>=1.21.6 in /usr/local/lib/python3.10/dist-packages (from scipy) (1.23.5)\n",
            "/bin/bash: line 1: pin: command not found\n",
            "Requirement already satisfied: matplotlib in /usr/local/lib/python3.10/dist-packages (3.7.1)\n",
            "Requirement already satisfied: contourpy>=1.0.1 in /usr/local/lib/python3.10/dist-packages (from matplotlib) (1.2.0)\n",
            "Requirement already satisfied: cycler>=0.10 in /usr/local/lib/python3.10/dist-packages (from matplotlib) (0.12.1)\n",
            "Requirement already satisfied: fonttools>=4.22.0 in /usr/local/lib/python3.10/dist-packages (from matplotlib) (4.44.0)\n",
            "Requirement already satisfied: kiwisolver>=1.0.1 in /usr/local/lib/python3.10/dist-packages (from matplotlib) (1.4.5)\n",
            "Requirement already satisfied: numpy>=1.20 in /usr/local/lib/python3.10/dist-packages (from matplotlib) (1.23.5)\n",
            "Requirement already satisfied: packaging>=20.0 in /usr/local/lib/python3.10/dist-packages (from matplotlib) (23.2)\n",
            "Requirement already satisfied: pillow>=6.2.0 in /usr/local/lib/python3.10/dist-packages (from matplotlib) (9.4.0)\n",
            "Requirement already satisfied: pyparsing>=2.3.1 in /usr/local/lib/python3.10/dist-packages (from matplotlib) (3.1.1)\n",
            "Requirement already satisfied: python-dateutil>=2.7 in /usr/local/lib/python3.10/dist-packages (from matplotlib) (2.8.2)\n",
            "Requirement already satisfied: six>=1.5 in /usr/local/lib/python3.10/dist-packages (from python-dateutil>=2.7->matplotlib) (1.16.0)\n"
          ]
        }
      ],
      "source": [
        "!pip install scipy\n",
        "!pin install numpy\n",
        "!pip install matplotlib"
      ]
    },
    {
      "cell_type": "markdown",
      "source": [
        "After installing both NumPy and SciPy, you will be able to run the convolution examples in your Python environment."
      ],
      "metadata": {
        "id": "UvANfm8OQOew"
      }
    },
    {
      "cell_type": "code",
      "source": [
        "import numpy as np\n",
        "from scipy.signal import convolve2d\n",
        "import matplotlib.pyplot as plt\n",
        "\n",
        "from scipy.signal import convolve2d\n",
        "\n",
        "# Example 8x8 image\n",
        "image = np.array([\n",
        "    [1, 2, 3, 4, 5, 6, 7, 8],\n",
        "    [2, 3, 4, 5, 6, 7, 8, 9],\n",
        "    [3, 4, 5, 6, 7, 8, 9, 10],\n",
        "    [4, 5, 6, 7, 8, 9, 10, 11],\n",
        "    [5, 6, 7, 8, 9, 10, 11, 12],\n",
        "    [6, 7, 8, 9, 10, 11, 12, 13],\n",
        "    [7, 8, 9, 10, 11, 12, 13, 14],\n",
        "    [8, 9, 10, 11, 12, 13, 14, 15]\n",
        "])\n",
        "\n",
        "# Simple 3x3 kernel\n",
        "kernel = np.array([\n",
        "    [1, 1, 1],\n",
        "    [1, 1, 1],\n",
        "    [1, 1, 1]\n",
        "]) / 9"
      ],
      "metadata": {
        "id": "4wEpU9aHPi3I"
      },
      "execution_count": 8,
      "outputs": []
    },
    {
      "cell_type": "code",
      "source": [
        "# Valid Convolution (No Padding)\n",
        "valid_convolution = convolve2d(image, kernel, mode='valid')\n",
        "\n",
        "# Same Convolution (With Padding)\n",
        "same_convolution = convolve2d(image, kernel, mode='same')\n",
        "\n",
        "# Full Convolution (Full Padding)\n",
        "full_convolution = convolve2d(image, kernel, mode='full')\n",
        "\n",
        "# Display the results\n",
        "print(\"Valid Convolution (No Padding):\\n\", valid_convolution)\n",
        "print(\"\\nSame Convolution (With Padding):\\n\", same_convolution)\n",
        "print(\"\\nFull Convolution (Full Padding):\\n\", full_convolution)\n",
        "\n",
        "# Perform the convolutions\n",
        "valid_convolution = convolve2d(image, kernel, mode='valid')\n",
        "same_convolution = convolve2d(image, kernel, mode='same')\n",
        "full_convolution = convolve2d(image, kernel, mode='full')\n",
        "\n",
        "# Plotting the results\n",
        "fig, axes = plt.subplots(1, 4, figsize=(20, 5))\n",
        "\n",
        "# Original image\n",
        "axes[0].imshow(image, cmap='gray')\n",
        "axes[0].set_title('Original Image')\n",
        "axes[0].axis('off')\n",
        "\n",
        "# Valid convolution\n",
        "axes[1].imshow(valid_convolution, cmap='gray')\n",
        "axes[1].set_title('Valid Convolution')\n",
        "axes[1].axis('off')\n",
        "\n",
        "# Same convolution\n",
        "axes[2].imshow(same_convolution, cmap='gray')\n",
        "axes[2].set_title('Same Convolution')\n",
        "axes[2].axis('off')\n",
        "\n",
        "# Full convolution\n",
        "axes[3].imshow(full_convolution, cmap='gray')\n",
        "axes[3].set_title('Full Convolution')\n",
        "axes[3].axis('off')\n",
        "\n",
        "plt.show()"
      ],
      "metadata": {
        "colab": {
          "base_uri": "https://localhost:8080/",
          "height": 1000
        },
        "id": "RXHjyp-YPskJ",
        "outputId": "8145ea19-d5f1-4537-caf8-ebd62954e7b4"
      },
      "execution_count": 9,
      "outputs": [
        {
          "output_type": "stream",
          "name": "stdout",
          "text": [
            "Valid Convolution (No Padding):\n",
            " [[ 3.  4.  5.  6.  7.  8.]\n",
            " [ 4.  5.  6.  7.  8.  9.]\n",
            " [ 5.  6.  7.  8.  9. 10.]\n",
            " [ 6.  7.  8.  9. 10. 11.]\n",
            " [ 7.  8.  9. 10. 11. 12.]\n",
            " [ 8.  9. 10. 11. 12. 13.]]\n",
            "\n",
            "Same Convolution (With Padding):\n",
            " [[ 0.88888889  1.66666667  2.33333333  3.          3.66666667  4.33333333\n",
            "   5.          3.55555556]\n",
            " [ 1.66666667  3.          4.          5.          6.          7.\n",
            "   8.          5.66666667]\n",
            " [ 2.33333333  4.          5.          6.          7.          8.\n",
            "   9.          6.33333333]\n",
            " [ 3.          5.          6.          7.          8.          9.\n",
            "  10.          7.        ]\n",
            " [ 3.66666667  6.          7.          8.          9.         10.\n",
            "  11.          7.66666667]\n",
            " [ 4.33333333  7.          8.          9.         10.         11.\n",
            "  12.          8.33333333]\n",
            " [ 5.          8.          9.         10.         11.         12.\n",
            "  13.          9.        ]\n",
            " [ 3.55555556  5.66666667  6.33333333  7.          7.66666667  8.33333333\n",
            "   9.          6.22222222]]\n",
            "\n",
            "Full Convolution (Full Padding):\n",
            " [[ 0.11111111  0.33333333  0.66666667  1.          1.33333333  1.66666667\n",
            "   2.          2.33333333  1.66666667  0.88888889]\n",
            " [ 0.33333333  0.88888889  1.66666667  2.33333333  3.          3.66666667\n",
            "   4.33333333  5.          3.55555556  1.88888889]\n",
            " [ 0.66666667  1.66666667  3.          4.          5.          6.\n",
            "   7.          8.          5.66666667  3.        ]\n",
            " [ 1.          2.33333333  4.          5.          6.          7.\n",
            "   8.          9.          6.33333333  3.33333333]\n",
            " [ 1.33333333  3.          5.          6.          7.          8.\n",
            "   9.         10.          7.          3.66666667]\n",
            " [ 1.66666667  3.66666667  6.          7.          8.          9.\n",
            "  10.         11.          7.66666667  4.        ]\n",
            " [ 2.          4.33333333  7.          8.          9.         10.\n",
            "  11.         12.          8.33333333  4.33333333]\n",
            " [ 2.33333333  5.          8.          9.         10.         11.\n",
            "  12.         13.          9.          4.66666667]\n",
            " [ 1.66666667  3.55555556  5.66666667  6.33333333  7.          7.66666667\n",
            "   8.33333333  9.          6.22222222  3.22222222]\n",
            " [ 0.88888889  1.88888889  3.          3.33333333  3.66666667  4.\n",
            "   4.33333333  4.66666667  3.22222222  1.66666667]]\n"
          ]
        },
        {
          "output_type": "display_data",
          "data": {
            "text/plain": [
              "<Figure size 2000x500 with 4 Axes>"
            ],
            "image/png": "[encoded data removed]"
          },
          "metadata": {}
        }
      ]
    },
    {
      "cell_type": "markdown",
      "source": [
        "This code will demonstrate how each convolution type handles the edges of the image. The 'valid' mode will result in a smaller output, 'same' will keep the image size constant (with padding), and 'full' will increase the image size (with more extensive padding)."
      ],
      "metadata": {
        "id": "xr2_cVhKQ0Io"
      }
    },
    {
      "cell_type": "code",
      "source": [],
      "metadata": {
        "id": "F1KEy7L2Q1Hh"
      },
      "execution_count": null,
      "outputs": []
    }
  ]
}